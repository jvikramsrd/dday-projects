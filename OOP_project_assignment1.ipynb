{
  "nbformat": 4,
  "nbformat_minor": 0,
  "metadata": {
    "colab": {
      "provenance": []
    },
    "kernelspec": {
      "name": "python3",
      "display_name": "Python 3"
    },
    "language_info": {
      "name": "python"
    }
  },
  "cells": [
    {
      "cell_type": "code",
      "execution_count": 3,
      "metadata": {
        "id": "3gw8NUDnIxh2",
        "colab": {
          "base_uri": "https://localhost:8080/",
          "height": 391
        },
        "outputId": "01fce278-36c6-4a31-f932-8535c566ec51"
      },
      "outputs": [
        {
          "name": "stdout",
          "output_type": "stream",
          "text": [
            "enter the transaction mode(either deposite or withdraw):10000\n",
            "enter amount to be withdrawn:100000\n"
          ]
        },
        {
          "output_type": "error",
          "ename": "NameError",
          "evalue": "name 'self' is not defined",
          "traceback": [
            "\u001b[0;31m---------------------------------------------------------------------------\u001b[0m",
            "\u001b[0;31mNameError\u001b[0m                                 Traceback (most recent call last)",
            "\u001b[0;32m<ipython-input-3-a86e6ba2f334>\u001b[0m in \u001b[0;36m<cell line: 17>\u001b[0;34m()\u001b[0m\n\u001b[1;32m     15\u001b[0m       \u001b[0mprint\u001b[0m\u001b[0;34m(\u001b[0m\u001b[0;34m\"amount in\"\u001b[0m\u001b[0;34m,\u001b[0m\u001b[0mself\u001b[0m\u001b[0;34m.\u001b[0m\u001b[0maccountno\u001b[0m\u001b[0;34m,\u001b[0m\u001b[0;34m\"is\"\u001b[0m\u001b[0;34m,\u001b[0m\u001b[0mself\u001b[0m\u001b[0;34m.\u001b[0m\u001b[0mbalance\u001b[0m\u001b[0;34m)\u001b[0m\u001b[0;34m\u001b[0m\u001b[0;34m\u001b[0m\u001b[0m\n\u001b[1;32m     16\u001b[0m \u001b[0;34m\u001b[0m\u001b[0m\n\u001b[0;32m---> 17\u001b[0;31m \u001b[0;32mclass\u001b[0m \u001b[0mtransaction\u001b[0m\u001b[0;34m(\u001b[0m\u001b[0macc\u001b[0m\u001b[0;34m)\u001b[0m\u001b[0;34m:\u001b[0m\u001b[0;34m\u001b[0m\u001b[0;34m\u001b[0m\u001b[0m\n\u001b[0m\u001b[1;32m     18\u001b[0m     \u001b[0md\u001b[0m\u001b[0;34m=\u001b[0m\u001b[0minput\u001b[0m\u001b[0;34m(\u001b[0m\u001b[0;34m\"enter the transaction mode(either deposite or withdraw):\"\u001b[0m\u001b[0;34m)\u001b[0m\u001b[0;34m\u001b[0m\u001b[0;34m\u001b[0m\u001b[0m\n\u001b[1;32m     19\u001b[0m     \u001b[0;32mif\u001b[0m \u001b[0md\u001b[0m\u001b[0;34m==\u001b[0m\u001b[0;34m\"deposite\"\u001b[0m\u001b[0;34m:\u001b[0m\u001b[0;34m\u001b[0m\u001b[0;34m\u001b[0m\u001b[0m\n",
            "\u001b[0;32m<ipython-input-3-a86e6ba2f334>\u001b[0m in \u001b[0;36mtransaction\u001b[0;34m()\u001b[0m\n\u001b[1;32m     31\u001b[0m           \u001b[0mprint\u001b[0m\u001b[0;34m(\u001b[0m\u001b[0;34m\"name\"\u001b[0m\u001b[0;34m,\u001b[0m\u001b[0mself\u001b[0m\u001b[0;34m.\u001b[0m\u001b[0mname\u001b[0m\u001b[0;34m)\u001b[0m\u001b[0;34m\u001b[0m\u001b[0;34m\u001b[0m\u001b[0m\n\u001b[1;32m     32\u001b[0m           \u001b[0mprint\u001b[0m\u001b[0;34m(\u001b[0m\u001b[0;34m\"amount in\"\u001b[0m\u001b[0;34m,\u001b[0m\u001b[0mself\u001b[0m\u001b[0;34m.\u001b[0m\u001b[0maccountno\u001b[0m\u001b[0;34m,\u001b[0m\u001b[0;34m\"is\"\u001b[0m\u001b[0;34m,\u001b[0m\u001b[0mself\u001b[0m\u001b[0;34m.\u001b[0m\u001b[0mbalance\u001b[0m\u001b[0;34m)\u001b[0m\u001b[0;34m\u001b[0m\u001b[0;34m\u001b[0m\u001b[0m\n\u001b[0;32m---> 33\u001b[0;31m         \u001b[0mwithdraw\u001b[0m\u001b[0;34m(\u001b[0m\u001b[0;34m)\u001b[0m\u001b[0;34m\u001b[0m\u001b[0;34m\u001b[0m\u001b[0m\n\u001b[0m\u001b[1;32m     34\u001b[0m \u001b[0;32mclass\u001b[0m \u001b[0maccgen\u001b[0m\u001b[0;34m(\u001b[0m\u001b[0;34m)\u001b[0m\u001b[0;34m:\u001b[0m\u001b[0;34m\u001b[0m\u001b[0;34m\u001b[0m\u001b[0m\n\u001b[1;32m     35\u001b[0m   \u001b[0mz\u001b[0m\u001b[0;34m=\u001b[0m\u001b[0;32mNone\u001b[0m\u001b[0;34m\u001b[0m\u001b[0;34m\u001b[0m\u001b[0m\n",
            "\u001b[0;32m<ipython-input-3-a86e6ba2f334>\u001b[0m in \u001b[0;36mwithdraw\u001b[0;34m()\u001b[0m\n\u001b[1;32m     28\u001b[0m         \u001b[0;32mdef\u001b[0m \u001b[0mwithdraw\u001b[0m\u001b[0;34m(\u001b[0m\u001b[0;34m)\u001b[0m\u001b[0;34m:\u001b[0m\u001b[0;34m\u001b[0m\u001b[0;34m\u001b[0m\u001b[0m\n\u001b[1;32m     29\u001b[0m           \u001b[0mwithdrawing_amount\u001b[0m\u001b[0;34m=\u001b[0m\u001b[0mint\u001b[0m\u001b[0;34m(\u001b[0m\u001b[0minput\u001b[0m\u001b[0;34m(\u001b[0m\u001b[0;34m\"enter amount to be withdrawn:\"\u001b[0m\u001b[0;34m)\u001b[0m\u001b[0;34m)\u001b[0m\u001b[0;34m\u001b[0m\u001b[0;34m\u001b[0m\u001b[0m\n\u001b[0;32m---> 30\u001b[0;31m           \u001b[0mself\u001b[0m\u001b[0;34m.\u001b[0m\u001b[0mbalance\u001b[0m\u001b[0;34m-=\u001b[0m\u001b[0mwithdrawing_amount\u001b[0m\u001b[0;34m\u001b[0m\u001b[0;34m\u001b[0m\u001b[0m\n\u001b[0m\u001b[1;32m     31\u001b[0m           \u001b[0mprint\u001b[0m\u001b[0;34m(\u001b[0m\u001b[0;34m\"name\"\u001b[0m\u001b[0;34m,\u001b[0m\u001b[0mself\u001b[0m\u001b[0;34m.\u001b[0m\u001b[0mname\u001b[0m\u001b[0;34m)\u001b[0m\u001b[0;34m\u001b[0m\u001b[0;34m\u001b[0m\u001b[0m\n\u001b[1;32m     32\u001b[0m           \u001b[0mprint\u001b[0m\u001b[0;34m(\u001b[0m\u001b[0;34m\"amount in\"\u001b[0m\u001b[0;34m,\u001b[0m\u001b[0mself\u001b[0m\u001b[0;34m.\u001b[0m\u001b[0maccountno\u001b[0m\u001b[0;34m,\u001b[0m\u001b[0;34m\"is\"\u001b[0m\u001b[0;34m,\u001b[0m\u001b[0mself\u001b[0m\u001b[0;34m.\u001b[0m\u001b[0mbalance\u001b[0m\u001b[0;34m)\u001b[0m\u001b[0;34m\u001b[0m\u001b[0;34m\u001b[0m\u001b[0m\n",
            "\u001b[0;31mNameError\u001b[0m: name 'self' is not defined"
          ]
        }
      ],
      "source": [
        "import random\n",
        "import csv\n",
        "import pandas as pd\n",
        "class acc:\n",
        "    def __init__(self,name,age,pan,phoneno,accountno,balance):\n",
        "        self.name=name\n",
        "        self.age=age\n",
        "        self.pan=pan\n",
        "        self.phoneno=phoneno\n",
        "        self.accountno=accountno\n",
        "        self.balance=balance\n",
        "\n",
        "    def display_balance():\n",
        "      print(\"name\",self.name)\n",
        "      print(\"amount in\",self.accountno,\"is\",self.balance)\n",
        "\n",
        "class transaction(acc):\n",
        "    d=input(\"enter the transaction mode(either deposite or withdraw):\")\n",
        "    if d==\"deposite\":\n",
        "      def deposite():\n",
        "        depositing_amount=int(input(\"amount to be deposited\"))\n",
        "        self.balance+=depositing_amount\n",
        "        print(\"name\",self.name)\n",
        "        print(\"amount in\",self.accountno,\"is\",self.balance)\n",
        "      deposite()\n",
        "\n",
        "    else:\n",
        "        def withdraw():\n",
        "          withdrawing_amount=int(input(\"enter amount to be withdrawn:\"))\n",
        "          self.balance-=withdrawing_amount\n",
        "          print(\"name\",self.name)\n",
        "          print(\"amount in\",self.accountno,\"is\",self.balance)\n",
        "        withdraw()\n",
        "class accgen():\n",
        "  z=None\n",
        "  def generateaccno():\n",
        "    z=random.randalnum\n",
        "\n",
        "class UserLogin(acc):\n",
        "        def __init__(self, username, password):\n",
        "            self.username = username\n",
        "            self.password = password\n",
        "\n",
        "        def display(self):\n",
        "            print(f\"Username: {self.username}\")\n",
        "            print(f\"Password: {self.password}\")\n",
        "\n",
        "class Loan(acc):\n",
        "    def __init__(self, amount, interest_rate):\n",
        "        self.amount = amount\n",
        "        self.interest_rate = interest_rate\n",
        "\n",
        "    def calculate_interest(self):\n",
        "        return self.amount * self.interest_rate\n",
        "\n",
        "    class Details(acc):\n",
        "        def __init__(self, duration, borrower):\n",
        "            self.duration = duration\n",
        "            self.borrower = borrower\n",
        "\n",
        "loan = Loan(10000, 0.05)\n",
        "loan_details = loan.Details(12, \"XYZ\")\n",
        "\n",
        "class investments(acc):\n",
        "  def __init__(self, type, amount):\n",
        "        self.type = type\n",
        "        self.amount = amount\n",
        "\n",
        "  def display_investment_details(self):\n",
        "        print(f\"Investment Type: {self.type}\")\n",
        "        print(f\"Investment Amount: ${self.amount}\")\n",
        "\n",
        "class balance_limits(acc):\n",
        "  class Details:\n",
        "        def __init__(self, min_balance, max_balance):\n",
        "            self.min_balance = min_balance\n",
        "            self.max_balance = max_balance\n",
        "\n",
        "\n",
        "class userlogin(acc):\n",
        "    def __init__(self,accno,passwrd):\n",
        "            self.accno = accno\n",
        "            self.passwrd = passwrd\n",
        "\n",
        "\n",
        "class customer_service:\n",
        "    pass\n",
        "\n",
        "class transaction_history(acc):\n",
        "    def __init__(self, details):\n",
        "        self.details = details\n",
        "\n",
        "    def get_details(self):\n",
        "      pass\n",
        "class customer_service:\n",
        "   pass\n",
        "\n",
        "class transaction_history(acc):\n",
        "    return self.details\n",
        "\n",
        "class customer_service:\n",
        "   pass\n",
        "\n",
        "class transaction_history(acc):\n",
        "  pass\n",
        "\n",
        "class credit_card:\n",
        "   def holder(x):\n",
        "    if x == 'yes' or 'Yes':\n",
        "      cc = True\n",
        "    else:\n",
        "      cc == False\n",
        "\n",
        "class credit_score:\n",
        "    pass"
      ]
    },
    {
      "cell_type": "code",
      "source": [
        "\n",
        "class userlogin(acc):\n",
        "    def __init__(self,accno,password):\n",
        "            self.accno = accno\n",
        "            self.password = password\n",
        "    def"
      ],
      "metadata": {
        "id": "8NT_hsTgSSk0"
      },
      "execution_count": null,
      "outputs": []
    },
    {
      "cell_type": "code",
      "source": [
        "acc=csv.DictReader('test.csv')\n",
        "print(acc)"
      ],
      "metadata": {
        "colab": {
          "base_uri": "https://localhost:8080/"
        },
        "id": "M68Z3OUwWVek",
        "outputId": "d6a54cff-2105-453a-cf38-e4fef8f9a200"
      },
      "execution_count": null,
      "outputs": [
        {
          "output_type": "stream",
          "name": "stdout",
          "text": [
            "<csv.DictReader object at 0x7d031abf7460>\n"
          ]
        }
      ]
    },
    {
      "cell_type": "code",
      "source": [
        "accd=pd.read_csv('/content/Untitled 1.csv')\n",
        "print(accd)\n"
      ],
      "metadata": {
        "id": "cg2yq9CHX-j2",
        "colab": {
          "base_uri": "https://localhost:8080/"
        },
        "outputId": "5950acfb-bac6-470d-926d-fa91d5e32893"
      },
      "execution_count": null,
      "outputs": [
        {
          "output_type": "stream",
          "name": "stdout",
          "text": [
            "      phoneno  age accno       pswd  debt  creditcard\n",
            "0  7483958392   19  AC10     vjsddd     1           1\n",
            "1  7483958393   43  AC11   sjdfhsjd     1           0\n",
            "2  7483958394   33  AC12  kjhgvjksd     0           0\n",
            "3  7483958395   24  AC13       kjvh     0           1\n",
            "4  7483958396   38  AC14      kfjgh     1           1\n",
            "5  7483958397   24  AC15     xlfjkh     1           0\n"
          ]
        }
      ]
    },
    {
      "cell_type": "code",
      "source": [],
      "metadata": {
        "id": "XOJgJ0RfvuG7"
      },
      "execution_count": null,
      "outputs": []
    }
  ]
}